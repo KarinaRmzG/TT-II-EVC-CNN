{
  "nbformat": 4,
  "nbformat_minor": 0,
  "metadata": {
    "colab": {
      "provenance": [],
      "authorship_tag": "ABX9TyMn5NIIxEdGr97UIhu1lnQv",
      "include_colab_link": true
    },
    "kernelspec": {
      "name": "python3",
      "display_name": "Python 3"
    },
    "language_info": {
      "name": "python"
    }
  },
  "cells": [
    {
      "cell_type": "markdown",
      "metadata": {
        "id": "view-in-github",
        "colab_type": "text"
      },
      "source": [
        "<a href=\"https://colab.research.google.com/github/KarinaRmzG/TT-II-EVC-CNN/blob/main/recorte.ipynb\" target=\"_parent\"><img src=\"https://colab.research.google.com/assets/colab-badge.svg\" alt=\"Open In Colab\"/></a>"
      ]
    },
    {
      "cell_type": "markdown",
      "source": [
        "#Pruebas de casos"
      ],
      "metadata": {
        "id": "3kjOkYLdewR5"
      }
    },
    {
      "cell_type": "markdown",
      "source": [
        "\n",
        "\n",
        "*   Este codigo realiza la prediccion de EVC en los casos dados\n",
        "\n"
      ],
      "metadata": {
        "id": "tkDmTLcpe10G"
      }
    },
    {
      "cell_type": "code",
      "execution_count": null,
      "metadata": {
        "id": "dfy-m-JGenGh"
      },
      "outputs": [],
      "source": [
        "import os\n",
        "import cv2\n",
        "import numpy as np\n",
        "import matplotlib.pyplot as plt\n",
        "from tensorflow.keras.models import load_model\n",
        "\n",
        "def preprocess_image(image_path, tamaño_esperado=224):\n",
        "    img = cv2.imread(image_path)\n",
        "\n",
        "    # Convertir la imagen a escala de grises\n",
        "    gray = cv2.cvtColor(img, cv2.COLOR_BGR2GRAY)\n",
        "\n",
        "    # Aplicar umbralización para resaltar los contornos\n",
        "    _, thresh = cv2.threshold(gray, 127, 255, cv2.THRESH_BINARY)\n",
        "\n",
        "    # Encontrar contornos en la imagen umbralizada\n",
        "    contours, _ = cv2.findContours(thresh, cv2.RETR_EXTERNAL, cv2.CHAIN_APPROX_SIMPLE)\n",
        "\n",
        "    # Seleccionar el contorno más grande basado en el área\n",
        "    largest_contour = max(contours, key=cv2.contourArea)\n",
        "\n",
        "    # Calcular puntos extremos (izquierdo, derecho, superior, inferior) del contorno más grande\n",
        "    leftmost = tuple(largest_contour[largest_contour[:, :, 0].argmin()][0])\n",
        "    rightmost = tuple(largest_contour[largest_contour[:, :, 0].argmax()][0])\n",
        "    topmost = tuple(largest_contour[largest_contour[:, :, 1].argmin()][0])\n",
        "    bottommost = tuple(largest_contour[largest_contour[:, :, 1].argmax()][0])\n",
        "\n",
        "    # Recortar la región de interés utilizando los puntos extremos\n",
        "    cropped_img = img[topmost[1]:bottommost[1], leftmost[0]:rightmost[0]]\n",
        "\n",
        "    # Redimensionar la imagen recortada a 224x224\n",
        "    cropped_img_resized = cv2.resize(cropped_img, (tamaño_esperado, tamaño_esperado))\n",
        "\n",
        "    # Normalizar la imagen recortada redimensionada\n",
        "    cropped_img_resized = cropped_img_resized / 255.0\n",
        "\n",
        "    return cropped_img_resized\n",
        "\n",
        "def show_images_with_predictions(model, directorio_imagenes, batch_size=12):\n",
        "    # lista de nombres de archivos en el directorio\n",
        "    archivos = os.listdir(directorio_imagenes)\n",
        "\n",
        "    # Configura la visualización en una cuadrícula de 2x6\n",
        "    plt.figure(figsize=(20, 8))\n",
        "\n",
        "    # Determina la longitud del lote\n",
        "    length = min(batch_size, len(archivos))\n",
        "\n",
        "    # Itera sobre el lote y muestra las imágenes con sus predicciones\n",
        "    for i in range(length):\n",
        "        imagen_nombre = archivos[i]\n",
        "        imagen_path = os.path.join(directorio_imagenes, imagen_nombre)\n",
        "        imagen_preprocesada = preprocess_image(imagen_path)\n",
        "        prediccion = model.predict(np.expand_dims(imagen_preprocesada, axis=0))\n",
        "        clase_predicha = np.argmax(prediccion, axis=1)[0]\n",
        "\n",
        "        # Muestra la imagen preprocesada\n",
        "        plt.subplot(2, 6, i + 1)\n",
        "        plt.imshow(imagen_preprocesada)\n",
        "\n",
        "        # Obtiene el nombre de la clase correspondiente a la predicción\n",
        "        class_name = \"EVC\" if clase_predicha == 1 else \"Normal\"\n",
        "        print(clase_predicha)\n",
        "        # Agrega el título con el nombre de la clase en azul\n",
        "        plt.title(class_name, color='blue', fontsize=12)\n",
        "        plt.axis('off')\n",
        "\n",
        "    # Muestra la visualización\n",
        "    plt.show()\n",
        "\n",
        "# Ruta del modelo h5\n",
        "model_path = 'CNN_EVC_v2.h5'\n",
        "\n",
        "# Cargar el modelo\n",
        "model = load_model(model_path)\n",
        "\n",
        "# Directorio de imágenes de prueba\n",
        "directorio_imagenes = 'Caso3_evc'\n",
        "\n",
        "# Mostrar las imágenes con las predicciones en una cuadrícula de 2x6\n",
        "show_images_with_predictions(model, directorio_imagenes, batch_size=12)"
      ]
    }
  ]
}